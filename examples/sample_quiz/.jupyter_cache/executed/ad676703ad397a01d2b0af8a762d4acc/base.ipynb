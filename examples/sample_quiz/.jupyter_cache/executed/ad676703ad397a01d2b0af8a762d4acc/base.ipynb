{
 "cells": [
  {
   "cell_type": "code",
   "execution_count": 1,
   "metadata": {
    "ctype": "answer",
    "key": "A",
    "qnum": "1"
   },
   "outputs": [
    {
     "name": "stdout",
     "output_type": "stream",
     "text": [
      "Tequil is  5.95 degrees -- B)\n"
     ]
    }
   ],
   "source": [
    "import numpy as np\n",
    "the_lambda = 4.5/3.8\n",
    "del_F = 3.8*np.log(700/280)/np.log(2)\n",
    "T_equil = the_lambda*del_F\n",
    "print(f\"Tequil is {T_equil:5.2f} degrees -- B)\")"
   ]
  },
  {
   "cell_type": "code",
   "execution_count": 2,
   "metadata": {
    "ctype": "answer",
    "key": "A",
    "qnum": "3"
   },
   "outputs": [
    {
     "name": "stdout",
     "output_type": "stream",
     "text": [
      "459.27 259.105392\n",
      "152.0 B)\n"
     ]
    }
   ],
   "source": [
    "sigma=5.67e-8\n",
    "print(sigma*300**4., sigma*260**4.)\n",
    "top = +250 - 0.8*260 - 0.2*460\n",
    "bot = 250*0.2 + 0.8*260 - 460.\n",
    "print((top - bot), \"B)\")"
   ]
  },
  {
   "cell_type": "code",
   "execution_count": 3,
   "metadata": {
    "ctype": "answer",
    "key": "A",
    "qnum": "6"
   },
   "outputs": [
    {
     "name": "stdout",
     "output_type": "stream",
     "text": [
      "-1.3095999999999999 g/kg -- D)\n"
     ]
    }
   ],
   "source": [
    "c_p = 1004\n",
    "L_v = 2.5e6\n",
    "g = 9.8\n",
    "delta_T = -6.5\n",
    "delta_z = 1000\n",
    "\n",
    "delta_wv = -(delta_T * c_p + delta_z * g)/L_v # kg/kg\n",
    "print(f\"{delta_wv * 1e3} g/kg -- D)\")"
   ]
  },
  {
   "cell_type": "code",
   "execution_count": 4,
   "metadata": {
    "ctype": "answer",
    "key": "A",
    "qnum": "7"
   },
   "outputs": [
    {
     "name": "stdout",
     "output_type": "stream",
     "text": [
      "New climate sensitivity is  0.70 K/W/m2 -- answer A)\n"
     ]
    }
   ],
   "source": [
    "f = - 1 / 0.85\n",
    "lambda_new = - 1 / (f - 0.25)\n",
    "print(f\"New climate sensitivity is {lambda_new:5.2f} K/W/m2 -- answer A)\")"
   ]
  },
  {
   "cell_type": "code",
   "execution_count": 5,
   "metadata": {
    "ctype": "answer",
    "key": "A",
    "qnum": "9"
   },
   "outputs": [
    {
     "name": "stdout",
     "output_type": "stream",
     "text": [
      "518.767877672756 is the maximum permissible level of CO2 concentration  -- answer D\n"
     ]
    }
   ],
   "source": [
    "del_F = 1 / 0.8\n",
    "old_CO2 = 413\n",
    "new_CO2 = np.exp(del_F* np.log(2) / 3.8) * old_CO2\n",
    "\n",
    "print(f\"{new_CO2} is the maximum permissible level of CO2 concentration  -- answer D\")"
   ]
  }
 ],
 "metadata": {
  "header_metadata": {
   "chead": "Quiz 2, February 27, 2020",
   "lhead": "EOSC 340"
  },
  "jupytext": {
   "cell_metadata_filter": "all",
   "cell_metadata_json": true,
   "encoding": "# -*- coding: utf-8 -*-",
   "formats": "ipynb,md:myst",
   "notebook_metadata_filter": "all,-language_info,-toc,-latex_envs"
  },
  "kernelspec": {
   "display_name": "Python 3",
   "language": "python",
   "name": "python3"
  },
  "language_info": {
   "codemirror_mode": {
    "name": "ipython",
    "version": 3
   },
   "file_extension": ".py",
   "mimetype": "text/x-python",
   "name": "python",
   "nbconvert_exporter": "python",
   "pygments_lexer": "ipython3",
   "version": "3.7.6"
  },
  "latex_envs": {
   "LaTeX_envs_menu_present": true,
   "autoclose": false,
   "autocomplete": true,
   "bibliofile": "biblio.bib",
   "cite_by": "apalike",
   "current_citInitial": 1,
   "eqLabelWithNumbers": true,
   "eqNumInitial": 1,
   "hotkeys": {
    "equation": "meta-9"
   },
   "labels_anchors": false,
   "latex_user_defs": false,
   "report_style_numbering": false,
   "user_envs_cfg": false
  },
  "toc": {
   "base_numbering": 1,
   "nav_menu": {},
   "number_sections": true,
   "sideBar": true,
   "skip_h1_title": false,
   "title_cell": "Table of Contents",
   "title_sidebar": "Contents",
   "toc_cell": false,
   "toc_position": {},
   "toc_section_display": true,
   "toc_window_display": true
  }
 },
 "nbformat": 4,
 "nbformat_minor": 4
}